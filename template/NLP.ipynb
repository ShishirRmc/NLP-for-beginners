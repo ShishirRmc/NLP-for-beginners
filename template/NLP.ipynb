{
  "nbformat": 4,
  "nbformat_minor": 0,
  "metadata": {
    "colab": {
      "provenance": [],
      "gpuType": "T4"
    },
    "kernelspec": {
      "name": "python3",
      "display_name": "Python 3"
    },
    "language_info": {
      "name": "python"
    },
    "accelerator": "GPU"
  },
  "cells": [
    {
      "cell_type": "code",
      "execution_count": 1,
      "metadata": {
        "id": "AH-Te-Nryzk_"
      },
      "outputs": [],
      "source": [
        "import pandas as pd"
      ]
    },
    {
      "cell_type": "code",
      "source": [
        "df = pd.read_csv('/content/IMDB Dataset.csv')"
      ],
      "metadata": {
        "id": "n7wLtTmPzAUr"
      },
      "execution_count": 2,
      "outputs": []
    },
    {
      "cell_type": "code",
      "source": [
        "df = df.head(1000)"
      ],
      "metadata": {
        "id": "PR587zIxzJz0"
      },
      "execution_count": 3,
      "outputs": []
    },
    {
      "cell_type": "code",
      "source": [
        "# to lower case\n",
        "# we need to lowercase the dataset in order to make them case insensitive, program might think Mango and mango two different things\n",
        "\n",
        "df['review'] = df['review'].str.lower()\n",
        "\n",
        "# df['review'][1]"
      ],
      "metadata": {
        "id": "nY8A2ztEzQXB"
      },
      "execution_count": 4,
      "outputs": []
    },
    {
      "cell_type": "code",
      "source": [
        "# remove the links, <, /, commas and exclamation marks to make the data clean\n",
        "\n",
        "# import regular expression\n",
        "import re\n",
        "\n",
        "def remove_links(text):\n",
        "  pattern = re.compile('http[s]?://(?:[a-zA-Z]|[0-9]|[$-_@.&+]|[!*\\(\\),]|(?:%[0-9a-fA-F][0-9a-fA-F]))+')\n",
        "  return pattern.sub(r'', text)\n",
        "\n",
        "# remove the signs\n",
        "def remove_signs(text1):\n",
        "  patterns = re.compile('<.*?>')\n",
        "  return patterns.sub(r'', text1)\n",
        "\n",
        "df['review'] = df['review'].apply(remove_links)\n",
        "df['review'] = df['review'].apply(remove_signs)\n",
        "\n",
        "# in order to make the text clean"
      ],
      "metadata": {
        "id": "NjBBMfyCzajI"
      },
      "execution_count": 5,
      "outputs": []
    },
    {
      "cell_type": "code",
      "source": [
        "df['review'][1]"
      ],
      "metadata": {
        "colab": {
          "base_uri": "https://localhost:8080/",
          "height": 122
        },
        "id": "JX5irCV31DIR",
        "outputId": "8fff8d1a-df39-497f-ef3a-434868d6efc8"
      },
      "execution_count": 6,
      "outputs": [
        {
          "output_type": "execute_result",
          "data": {
            "text/plain": [
              "'a wonderful little production. the filming technique is very unassuming- very old-time-bbc fashion and gives a comforting, and sometimes discomforting, sense of realism to the entire piece. the actors are extremely well chosen- michael sheen not only \"has got all the polari\" but he has all the voices down pat too! you can truly see the seamless editing guided by the references to williams\\' diary entries, not only is it well worth the watching but it is a terrificly written and performed piece. a masterful production about one of the great master\\'s of comedy and his life. the realism really comes home with the little things: the fantasy of the guard which, rather than use the traditional \\'dream\\' techniques remains solid then disappears. it plays on our knowledge and our senses, particularly with the scenes concerning orton and halliwell and the sets (particularly of their flat with halliwell\\'s murals decorating every surface) are terribly well done.'"
            ],
            "application/vnd.google.colaboratory.intrinsic+json": {
              "type": "string"
            }
          },
          "metadata": {},
          "execution_count": 6
        }
      ]
    },
    {
      "cell_type": "code",
      "source": [
        "# removing punctuations like full stops question mark, explamation etc to make text take less space\n",
        "import string,time\n",
        "string.punctuation\n",
        "\n",
        "exclude = string.punctuation\n",
        "\n",
        "# like these words\n",
        "\n",
        "# exclude\n",
        "# !\"#$%&'()*+,-./:;<=>?@[\\]^_`{|}~\n",
        "\n",
        "def remove_punc(text):\n",
        "    for char in exclude:\n",
        "        text = text.replace(char,'')\n",
        "    return text\n",
        "\n",
        "df['review'] = df['review'].apply(remove_punc)\n",
        "\n"
      ],
      "metadata": {
        "id": "ggyXBU8g1F0G"
      },
      "execution_count": 7,
      "outputs": []
    },
    {
      "cell_type": "markdown",
      "source": [
        "# **Handeling the abbreviations**"
      ],
      "metadata": {
        "id": "jtXSqVKe3wix"
      }
    },
    {
      "cell_type": "code",
      "source": [
        "chat_words = {\n",
        "    'AFAIK':'As Far As I Know',\n",
        "    'AFK':'Away From Keyboard',\n",
        "    'ASAP':'As Soon As Possible'\n",
        "}\n",
        "\n",
        "\n",
        "{\n",
        "    \"FYI\": \"For Your Information\",\n",
        "    \"ASAP\": \"As Soon As Possible\",\n",
        "    \"BRB\": \"Be Right Back\",\n",
        "    \"BTW\": \"By The Way\",\n",
        "    \"OMG\": \"Oh My God\",\n",
        "    \"IMO\": \"In My Opinion\",\n",
        "    \"LOL\": \"Laugh Out Loud\",\n",
        "    \"TTYL\": \"Talk To You Later\",\n",
        "    \"GTG\": \"Got To Go\",\n",
        "    \"TTYT\": \"Talk To You Tomorrow\",\n",
        "    \"IDK\": \"I Don't Know\",\n",
        "    \"TMI\": \"Too Much Information\",\n",
        "    \"IMHO\": \"In My Humble Opinion\",\n",
        "    \"ICYMI\": \"In Case You Missed It\",\n",
        "    \"AFAIK\": \"As Far As I Know\",\n",
        "    \"BTW\": \"By The Way\",\n",
        "    \"FAQ\": \"Frequently Asked Questions\",\n",
        "    \"TGIF\": \"Thank God It's Friday\",\n",
        "    \"FYA\": \"For Your Action\",\n",
        "    \"ICYMI\": \"In Case You Missed It\",\n",
        "}\n",
        "\n",
        "def chat_conversion(text):\n",
        "    new_text = []\n",
        "    for w in text.split():\n",
        "        if w.upper() in chat_words:\n",
        "            new_text.append(chat_words[w.upper()])\n",
        "        else:\n",
        "            new_text.append(w)\n",
        "    return \" \".join(new_text)\n",
        "\n",
        "df['review'] = df['review'].apply(chat_conversion)\n"
      ],
      "metadata": {
        "id": "nlruuTTl3vv-"
      },
      "execution_count": 8,
      "outputs": []
    },
    {
      "cell_type": "markdown",
      "source": [
        "# **handling incorrect text**"
      ],
      "metadata": {
        "id": "ywlYoEO94YK0"
      }
    },
    {
      "cell_type": "code",
      "source": [
        "# incorrect_text = 'ceertain conditionas duriing seveal ggenerations aree moodified in the saame maner.'\n",
        "\n",
        "# textBlb = TextBlob(incorrect_text)\n",
        "\n",
        "# textBlb.correct().string"
      ],
      "metadata": {
        "id": "2VIX9ql73hq3"
      },
      "execution_count": 9,
      "outputs": []
    },
    {
      "cell_type": "markdown",
      "source": [
        "# stop words handeling\n"
      ],
      "metadata": {
        "id": "D3tIL4AI4sWG"
      }
    },
    {
      "cell_type": "code",
      "source": [
        "from nltk.corpus import stopwords\n",
        "import nltk\n",
        "nltk.download('stopwords')\n",
        "\n",
        "# stopwords.words('english')"
      ],
      "metadata": {
        "colab": {
          "base_uri": "https://localhost:8080/"
        },
        "id": "ao90UXCm4r-o",
        "outputId": "0803bb6c-b74f-48b8-8267-36a36a6b272a"
      },
      "execution_count": 10,
      "outputs": [
        {
          "output_type": "stream",
          "name": "stderr",
          "text": [
            "[nltk_data] Downloading package stopwords to /root/nltk_data...\n",
            "[nltk_data]   Package stopwords is already up-to-date!\n"
          ]
        },
        {
          "output_type": "execute_result",
          "data": {
            "text/plain": [
              "True"
            ]
          },
          "metadata": {},
          "execution_count": 10
        }
      ]
    },
    {
      "cell_type": "code",
      "source": [
        "# def remove_stopwords(text):\n",
        "#     new_text = []\n",
        "\n",
        "#     for word in text.split():\n",
        "#         if word in stopwords.words('english'):\n",
        "#             new_text.append('')\n",
        "#         else:\n",
        "#             new_text.append(word)\n",
        "#     x = new_text[:]\n",
        "#     new_text.clear()\n",
        "#     return \" \".join(x)\n",
        "\n",
        "# df['review'] = df['review'].apply(remove_stopwords)"
      ],
      "metadata": {
        "id": "JH_7UMTA46PP"
      },
      "execution_count": 11,
      "outputs": []
    },
    {
      "cell_type": "code",
      "source": [
        "# # remove emoji using unicode\n",
        "\n",
        "# import re\n",
        "# def remove_emoji(text):\n",
        "#     emoji_pattern = re.compile(\"[\"\n",
        "#                            u\"\\U0001F600-\\U0001F64F\"  # emoticons\n",
        "#                            u\"\\U0001F300-\\U0001F5FF\"  # symbols & pictographs\n",
        "#                            u\"\\U0001F680-\\U0001F6FF\"  # transport & map symbols\n",
        "#                            u\"\\U0001F1E0-\\U0001F1FF\"  # flags (iOS)\n",
        "#                            u\"\\U00002702-\\U000027B0\"\n",
        "#                            u\"\\U000024C2-\\U0001F251\"\n",
        "#                            \"]+\", flags=re.UNICODE)\n",
        "#     return emoji_pattern.sub(r'', text)\n",
        "\n",
        "# df['review'] = df['review'].apply(remove_emoji)"
      ],
      "metadata": {
        "id": "VNpWFbuH5EpQ"
      },
      "execution_count": 12,
      "outputs": []
    },
    {
      "cell_type": "markdown",
      "source": [
        "# **Tokenization**\n",
        "## can be done in two ways using split method\n",
        "## and by using nltk (natural langaugage toolkit)"
      ],
      "metadata": {
        "id": "MMPVrzuQ515m"
      }
    },
    {
      "cell_type": "code",
      "source": [
        "from nltk.tokenize import word_tokenize,sent_tokenize # word and sentance tokanizers\n",
        "import nltk\n",
        "nltk.download('punkt_tab')\n",
        "\n",
        "\n",
        "\n"
      ],
      "metadata": {
        "colab": {
          "base_uri": "https://localhost:8080/"
        },
        "id": "5uABrkty6G1R",
        "outputId": "74fccd80-2895-4dd6-d428-18e3905acdc0"
      },
      "execution_count": 13,
      "outputs": [
        {
          "output_type": "stream",
          "name": "stderr",
          "text": [
            "[nltk_data] Downloading package punkt_tab to /root/nltk_data...\n",
            "[nltk_data]   Package punkt_tab is already up-to-date!\n"
          ]
        },
        {
          "output_type": "execute_result",
          "data": {
            "text/plain": [
              "True"
            ]
          },
          "metadata": {},
          "execution_count": 13
        }
      ]
    },
    {
      "cell_type": "code",
      "source": [
        "\n",
        "# word_tokenize(df['review'][1])\n",
        "# sent_tokenize(df['review'][1])"
      ],
      "metadata": {
        "id": "72ZcoZ9s6liI"
      },
      "execution_count": 14,
      "outputs": []
    },
    {
      "cell_type": "markdown",
      "source": [
        "# stemmer and lemmatization\n",
        "# root wordd ma laijane like probably lai probable walks walked walking lai walk ma\n",
        "# stemmer padhna garo huncha sometimes probabl matra pani lekhdincha but lemmatization le exact root word ma laijancha jasle garda stemmer vanda slow huncha"
      ],
      "metadata": {
        "id": "bpfY0W3J7FvQ"
      }
    },
    {
      "cell_type": "code",
      "source": [
        "from nltk.stem.porter import PorterStemmer\n",
        "ps = PorterStemmer()\n",
        "def stem_words(text):\n",
        "    return \" \".join([ps.stem(word) for word in text.split()])\n",
        "\n",
        "stem_words(df['review'][1])"
      ],
      "metadata": {
        "colab": {
          "base_uri": "https://localhost:8080/",
          "height": 122
        },
        "id": "go6q1p8B7FOk",
        "outputId": "566d2bc9-619f-45ab-a2f8-0ad66f24a6e9"
      },
      "execution_count": 15,
      "outputs": [
        {
          "output_type": "execute_result",
          "data": {
            "text/plain": [
              "'a wonder littl product the film techniqu is veri unassum veri oldtimebbc fashion and give a comfort and sometim discomfort sens of realism to the entir piec the actor are extrem well chosen michael sheen not onli ha got all the polari but he ha all the voic down pat too you can truli see the seamless edit guid by the refer to william diari entri not onli is it well worth the watch but it is a terrificli written and perform piec a master product about one of the great master of comedi and hi life the realism realli come home with the littl thing the fantasi of the guard which rather than use the tradit dream techniqu remain solid then disappear it play on our knowledg and our sens particularli with the scene concern orton and halliwel and the set particularli of their flat with halliwel mural decor everi surfac are terribl well done'"
            ],
            "application/vnd.google.colaboratory.intrinsic+json": {
              "type": "string"
            }
          },
          "metadata": {},
          "execution_count": 15
        }
      ]
    },
    {
      "cell_type": "code",
      "source": [
        "# lemmatization\n",
        "\n",
        "from nltk.stem import WordNetLemmatizer\n",
        "nltk.download('wordnet')\n",
        "nltk.download('omw-1.4')\n",
        "wordnet_lemmatizer = WordNetLemmatizer()\n",
        "\n",
        "sentence = df['review'][1]\n",
        "punctuations=\"?:!.,;\"\n",
        "sentence_words = nltk.word_tokenize(sentence)\n",
        "for word in sentence_words:\n",
        "    if word in punctuations:\n",
        "        sentence_words.remove(word)\n",
        "\n",
        "sentence_words\n",
        "print(\"{0:20}{1:20}\".format(\"Word\",\"Lemma\"))\n",
        "for word in sentence_words:\n",
        "    print (\"{0:20}{1:20}\".format(word,wordnet_lemmatizer.lemmatize(word,pos='v')))"
      ],
      "metadata": {
        "colab": {
          "base_uri": "https://localhost:8080/"
        },
        "id": "bcNtphxS69Kt",
        "outputId": "2433f250-baf5-45c4-e949-df122b6d02e5"
      },
      "execution_count": 16,
      "outputs": [
        {
          "output_type": "stream",
          "name": "stderr",
          "text": [
            "[nltk_data] Downloading package wordnet to /root/nltk_data...\n",
            "[nltk_data]   Package wordnet is already up-to-date!\n",
            "[nltk_data] Downloading package omw-1.4 to /root/nltk_data...\n",
            "[nltk_data]   Package omw-1.4 is already up-to-date!\n"
          ]
        },
        {
          "output_type": "stream",
          "name": "stdout",
          "text": [
            "Word                Lemma               \n",
            "a                   a                   \n",
            "wonderful           wonderful           \n",
            "little              little              \n",
            "production          production          \n",
            "the                 the                 \n",
            "filming             film                \n",
            "technique           technique           \n",
            "is                  be                  \n",
            "very                very                \n",
            "unassuming          unassuming          \n",
            "very                very                \n",
            "oldtimebbc          oldtimebbc          \n",
            "fashion             fashion             \n",
            "and                 and                 \n",
            "gives               give                \n",
            "a                   a                   \n",
            "comforting          comfort             \n",
            "and                 and                 \n",
            "sometimes           sometimes           \n",
            "discomforting       discomforting       \n",
            "sense               sense               \n",
            "of                  of                  \n",
            "realism             realism             \n",
            "to                  to                  \n",
            "the                 the                 \n",
            "entire              entire              \n",
            "piece               piece               \n",
            "the                 the                 \n",
            "actors              actors              \n",
            "are                 be                  \n",
            "extremely           extremely           \n",
            "well                well                \n",
            "chosen              choose              \n",
            "michael             michael             \n",
            "sheen               sheen               \n",
            "not                 not                 \n",
            "only                only                \n",
            "has                 have                \n",
            "got                 get                 \n",
            "all                 all                 \n",
            "the                 the                 \n",
            "polari              polari              \n",
            "but                 but                 \n",
            "he                  he                  \n",
            "has                 have                \n",
            "all                 all                 \n",
            "the                 the                 \n",
            "voices              voice               \n",
            "down                down                \n",
            "pat                 pat                 \n",
            "too                 too                 \n",
            "you                 you                 \n",
            "can                 can                 \n",
            "truly               truly               \n",
            "see                 see                 \n",
            "the                 the                 \n",
            "seamless            seamless            \n",
            "editing             edit                \n",
            "guided              guide               \n",
            "by                  by                  \n",
            "the                 the                 \n",
            "references          reference           \n",
            "to                  to                  \n",
            "williams            williams            \n",
            "diary               diary               \n",
            "entries             entries             \n",
            "not                 not                 \n",
            "only                only                \n",
            "is                  be                  \n",
            "it                  it                  \n",
            "well                well                \n",
            "worth               worth               \n",
            "the                 the                 \n",
            "watching            watch               \n",
            "but                 but                 \n",
            "it                  it                  \n",
            "is                  be                  \n",
            "a                   a                   \n",
            "terrificly          terrificly          \n",
            "written             write               \n",
            "and                 and                 \n",
            "performed           perform             \n",
            "piece               piece               \n",
            "a                   a                   \n",
            "masterful           masterful           \n",
            "production          production          \n",
            "about               about               \n",
            "one                 one                 \n",
            "of                  of                  \n",
            "the                 the                 \n",
            "great               great               \n",
            "masters             master              \n",
            "of                  of                  \n",
            "comedy              comedy              \n",
            "and                 and                 \n",
            "his                 his                 \n",
            "life                life                \n",
            "the                 the                 \n",
            "realism             realism             \n",
            "really              really              \n",
            "comes               come                \n",
            "home                home                \n",
            "with                with                \n",
            "the                 the                 \n",
            "little              little              \n",
            "things              things              \n",
            "the                 the                 \n",
            "fantasy             fantasy             \n",
            "of                  of                  \n",
            "the                 the                 \n",
            "guard               guard               \n",
            "which               which               \n",
            "rather              rather              \n",
            "than                than                \n",
            "use                 use                 \n",
            "the                 the                 \n",
            "traditional         traditional         \n",
            "dream               dream               \n",
            "techniques          techniques          \n",
            "remains             remain              \n",
            "solid               solid               \n",
            "then                then                \n",
            "disappears          disappear           \n",
            "it                  it                  \n",
            "plays               play                \n",
            "on                  on                  \n",
            "our                 our                 \n",
            "knowledge           knowledge           \n",
            "and                 and                 \n",
            "our                 our                 \n",
            "senses              sense               \n",
            "particularly        particularly        \n",
            "with                with                \n",
            "the                 the                 \n",
            "scenes              scenes              \n",
            "concerning          concern             \n",
            "orton               orton               \n",
            "and                 and                 \n",
            "halliwell           halliwell           \n",
            "and                 and                 \n",
            "the                 the                 \n",
            "sets                set                 \n",
            "particularly        particularly        \n",
            "of                  of                  \n",
            "their               their               \n",
            "flat                flat                \n",
            "with                with                \n",
            "halliwells          halliwells          \n",
            "murals              murals              \n",
            "decorating          decorate            \n",
            "every               every               \n",
            "surface             surface             \n",
            "are                 be                  \n",
            "terribly            terribly            \n",
            "well                well                \n",
            "done                do                  \n"
          ]
        }
      ]
    },
    {
      "cell_type": "code",
      "source": [
        "\n",
        "X = df.iloc[:,0:1]\n",
        "y = df['sentiment']"
      ],
      "metadata": {
        "id": "SBUhzffR8IaD"
      },
      "execution_count": 17,
      "outputs": []
    },
    {
      "cell_type": "code",
      "source": [
        "\n",
        "from sklearn.preprocessing import LabelEncoder\n",
        "\n",
        "encoder = LabelEncoder()\n",
        "\n",
        "y = encoder.fit_transform(y)"
      ],
      "metadata": {
        "id": "hIhv9-G-8sjq"
      },
      "execution_count": 18,
      "outputs": []
    },
    {
      "cell_type": "code",
      "source": [
        "#spliting the data\n",
        "\n",
        "from sklearn.model_selection import train_test_split\n",
        "X_train,X_test,y_train,y_test = train_test_split(X,y,test_size=0.2,random_state=1)"
      ],
      "metadata": {
        "id": "KrYFbAwl87qo"
      },
      "execution_count": 19,
      "outputs": []
    },
    {
      "cell_type": "code",
      "source": [
        "# Applying BoW\n",
        "from sklearn.feature_extraction.text import CountVectorizer\n",
        "cv = CountVectorizer()"
      ],
      "metadata": {
        "id": "c-mzdcId8-yM"
      },
      "execution_count": 20,
      "outputs": []
    },
    {
      "cell_type": "code",
      "source": [
        "X_train_bow = cv.fit_transform(X_train['review']).toarray()\n",
        "X_test_bow = cv.transform(X_test['review']).toarray()\n",
        ""
      ],
      "metadata": {
        "id": "VJ2qLrBL9AHj"
      },
      "execution_count": 21,
      "outputs": []
    },
    {
      "cell_type": "code",
      "source": [
        "# applying naive bayes\n",
        "\n",
        "from sklearn.naive_bayes import GaussianNB\n",
        "gnb = GaussianNB()\n",
        "\n",
        "gnb.fit(X_train_bow,y_train)\n",
        "\n",
        "y_pred = gnb.predict(X_test_bow)\n",
        "\n",
        "from sklearn.metrics import accuracy_score,confusion_matrix\n",
        "accuracy_score(y_test,y_pred)"
      ],
      "metadata": {
        "colab": {
          "base_uri": "https://localhost:8080/"
        },
        "id": "LrxV4YRt9EZN",
        "outputId": "38d12bf8-1c3f-4c8a-b610-c60da33a5f06"
      },
      "execution_count": 22,
      "outputs": [
        {
          "output_type": "execute_result",
          "data": {
            "text/plain": [
              "0.545"
            ]
          },
          "metadata": {},
          "execution_count": 22
        }
      ]
    },
    {
      "cell_type": "code",
      "source": [
        "# random forest\n",
        "\n",
        "from sklearn.ensemble import RandomForestClassifier\n",
        "rf = RandomForestClassifier()\n",
        "\n",
        "rf.fit(X_train_bow,y_train)\n",
        "\n",
        "y_pred = rf.predict(X_test_bow)\n",
        "\n",
        "accuracy_score(y_test,y_pred)"
      ],
      "metadata": {
        "colab": {
          "base_uri": "https://localhost:8080/"
        },
        "id": "qXmpoPgC-tfI",
        "outputId": "eea46303-c944-4449-eefa-c155bf9fa7bc"
      },
      "execution_count": 23,
      "outputs": [
        {
          "output_type": "execute_result",
          "data": {
            "text/plain": [
              "0.785"
            ]
          },
          "metadata": {},
          "execution_count": 23
        }
      ]
    },
    {
      "cell_type": "code",
      "source": [
        "# ngrams apply (2 words at a time like my name is shishir lai my name, name is, is shishir etc)\n",
        "cv = CountVectorizer(ngram_range=(1,2),max_features=5000)\n",
        "\n",
        "X_train_bow = cv.fit_transform(X_train['review']).toarray()\n",
        "X_test_bow = cv.transform(X_test['review']).toarray()\n",
        "\n",
        "rf = RandomForestClassifier()\n",
        "\n",
        "rf.fit(X_train_bow,y_train)\n",
        "y_pred = rf.predict(X_test_bow)\n",
        "accuracy_score(y_test,y_pred)"
      ],
      "metadata": {
        "colab": {
          "base_uri": "https://localhost:8080/"
        },
        "id": "h8vt-HH2-vIY",
        "outputId": "69851254-52be-4d71-dcc2-63eb120d1bb6"
      },
      "execution_count": 24,
      "outputs": [
        {
          "output_type": "execute_result",
          "data": {
            "text/plain": [
              "0.805"
            ]
          },
          "metadata": {},
          "execution_count": 24
        }
      ]
    },
    {
      "cell_type": "code",
      "source": [],
      "metadata": {
        "id": "jD5tpWUo_EAJ"
      },
      "execution_count": null,
      "outputs": []
    }
  ]
}